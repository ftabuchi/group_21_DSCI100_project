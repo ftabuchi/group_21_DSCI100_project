{
 "cells": [
  {
   "cell_type": "markdown",
   "id": "89791216-1fcf-4648-84d3-fe53c9aadeb7",
   "metadata": {},
   "source": [
    "# Predicting the Type of Angina/Chest Pain based on Age and Blood Pressure\n",
    "\n",
    "## Introduction:\n",
    "Heart disease is an extremely prevalent health issue around the world. Angina is chest pain which is experienced by individuals who fail to get enough oxygen rich blood into parts of their heart muscle. Anginas can be a sign of coronary artery disease and a warning symptom of a heart attack. Angiography is an X-ray taken of the coronary arteries which is often used to diagnose heart disease. \n",
    " \n",
    "How do age and resting blood pressure influence the type of chest pain seen in patients admitted to the university hospitals in Zurich and Basel?\n",
    " \n",
    "We will be using the heart disease dataset from the Switzerland database. This dataset contains a set of 14 variables; the data was collected from 143 patients undergoing angiography in university hospitals in Zurich and Basel. Chest pain type (cp) is described by 4 values:  1 is a typical angina, 2 is an atypical angina, 3 is non-anginal pain, and 4 is asymptomatic. Trestbps represents resting blood pressure and age represents the age of the patient.\n"
   ]
  },
  {
   "cell_type": "code",
   "execution_count": 1,
   "id": "84a266d0-2a21-4975-b4cc-396e633dafc8",
   "metadata": {},
   "outputs": [
    {
     "name": "stderr",
     "output_type": "stream",
     "text": [
      "Warning message:\n",
      "“package ‘ggplot2’ was built under R version 4.3.2”\n",
      "── \u001b[1mAttaching core tidyverse packages\u001b[22m ──────────────────────── tidyverse 2.0.0 ──\n",
      "\u001b[32m✔\u001b[39m \u001b[34mdplyr    \u001b[39m 1.1.3     \u001b[32m✔\u001b[39m \u001b[34mpurrr    \u001b[39m 1.0.2\n",
      "\u001b[32m✔\u001b[39m \u001b[34mforcats  \u001b[39m 1.0.0     \u001b[32m✔\u001b[39m \u001b[34mstringr  \u001b[39m 1.5.0\n",
      "\u001b[32m✔\u001b[39m \u001b[34mggplot2  \u001b[39m 3.5.0     \u001b[32m✔\u001b[39m \u001b[34mtibble   \u001b[39m 3.2.1\n",
      "\u001b[32m✔\u001b[39m \u001b[34mlubridate\u001b[39m 1.9.2     \u001b[32m✔\u001b[39m \u001b[34mtidyr    \u001b[39m 1.3.0\n",
      "── \u001b[1mConflicts\u001b[22m ────────────────────────────────────────── tidyverse_conflicts() ──\n",
      "\u001b[31m✖\u001b[39m \u001b[34mdplyr\u001b[39m::\u001b[32mfilter()\u001b[39m masks \u001b[34mstats\u001b[39m::filter()\n",
      "\u001b[31m✖\u001b[39m \u001b[34mdplyr\u001b[39m::\u001b[32mlag()\u001b[39m    masks \u001b[34mstats\u001b[39m::lag()\n",
      "\u001b[36mℹ\u001b[39m Use the conflicted package (\u001b[3m\u001b[34m<http://conflicted.r-lib.org/>\u001b[39m\u001b[23m) to force all conflicts to become errors\n",
      "── \u001b[1mAttaching packages\u001b[22m ────────────────────────────────────── tidymodels 1.1.1 ──\n",
      "\n",
      "\u001b[32m✔\u001b[39m \u001b[34mbroom       \u001b[39m 1.0.5     \u001b[32m✔\u001b[39m \u001b[34mrsample     \u001b[39m 1.2.0\n",
      "\u001b[32m✔\u001b[39m \u001b[34mdials       \u001b[39m 1.2.0     \u001b[32m✔\u001b[39m \u001b[34mtune        \u001b[39m 1.1.2\n",
      "\u001b[32m✔\u001b[39m \u001b[34minfer       \u001b[39m 1.0.5     \u001b[32m✔\u001b[39m \u001b[34mworkflows   \u001b[39m 1.1.3\n",
      "\u001b[32m✔\u001b[39m \u001b[34mmodeldata   \u001b[39m 1.2.0     \u001b[32m✔\u001b[39m \u001b[34mworkflowsets\u001b[39m 1.0.1\n",
      "\u001b[32m✔\u001b[39m \u001b[34mparsnip     \u001b[39m 1.1.1     \u001b[32m✔\u001b[39m \u001b[34myardstick   \u001b[39m 1.2.0\n",
      "\u001b[32m✔\u001b[39m \u001b[34mrecipes     \u001b[39m 1.0.8     \n",
      "\n",
      "── \u001b[1mConflicts\u001b[22m ───────────────────────────────────────── tidymodels_conflicts() ──\n",
      "\u001b[31m✖\u001b[39m \u001b[34mscales\u001b[39m::\u001b[32mdiscard()\u001b[39m masks \u001b[34mpurrr\u001b[39m::discard()\n",
      "\u001b[31m✖\u001b[39m \u001b[34mdplyr\u001b[39m::\u001b[32mfilter()\u001b[39m   masks \u001b[34mstats\u001b[39m::filter()\n",
      "\u001b[31m✖\u001b[39m \u001b[34mrecipes\u001b[39m::\u001b[32mfixed()\u001b[39m  masks \u001b[34mstringr\u001b[39m::fixed()\n",
      "\u001b[31m✖\u001b[39m \u001b[34mdplyr\u001b[39m::\u001b[32mlag()\u001b[39m      masks \u001b[34mstats\u001b[39m::lag()\n",
      "\u001b[31m✖\u001b[39m \u001b[34myardstick\u001b[39m::\u001b[32mspec()\u001b[39m masks \u001b[34mreadr\u001b[39m::spec()\n",
      "\u001b[31m✖\u001b[39m \u001b[34mrecipes\u001b[39m::\u001b[32mstep()\u001b[39m   masks \u001b[34mstats\u001b[39m::step()\n",
      "\u001b[34m•\u001b[39m Learn how to get started at \u001b[32mhttps://www.tidymodels.org/start/\u001b[39m\n",
      "\n"
     ]
    }
   ],
   "source": [
    "#import packages\n",
    "library(readr)\n",
    "library(tidyverse)\n",
    "library(dplyr)\n",
    "library(tidymodels)"
   ]
  },
  {
   "cell_type": "code",
   "execution_count": 4,
   "id": "84b496b1-84b4-49ec-a295-fd445041e455",
   "metadata": {},
   "outputs": [
    {
     "ename": "ERROR",
     "evalue": "Error in open.connection(structure(6L, class = c(\"curl\", \"connection\"), conn_id = <pointer: 0x387>), : HTTP error 404.\n",
     "output_type": "error",
     "traceback": [
      "Error in open.connection(structure(6L, class = c(\"curl\", \"connection\"), conn_id = <pointer: 0x387>), : HTTP error 404.\nTraceback:\n",
      "1. read_csv(\"https://raw.githubusercontent.com/ftabuchi/group_21_DSCI100_project/jupyter-edits/data/processed.switzerland.data\", \n .     col_names = FALSE)",
      "2. vroom::vroom(file, delim = \",\", col_names = col_names, col_types = col_types, \n .     col_select = {\n .         {\n .             col_select\n .         }\n .     }, id = id, .name_repair = name_repair, skip = skip, n_max = n_max, \n .     na = na, quote = quote, comment = comment, skip_empty_rows = skip_empty_rows, \n .     trim_ws = trim_ws, escape_double = TRUE, escape_backslash = FALSE, \n .     locale = locale, guess_max = guess_max, show_col_types = show_col_types, \n .     progress = progress, altrep = lazy, num_threads = num_threads)",
      "3. vroom_(file, delim = delim %||% col_types$delim, col_names = col_names, \n .     col_types = col_types, id = id, skip = skip, col_select = col_select, \n .     name_repair = .name_repair, na = na, quote = quote, trim_ws = trim_ws, \n .     escape_double = escape_double, escape_backslash = escape_backslash, \n .     comment = comment, skip_empty_rows = skip_empty_rows, locale = locale, \n .     guess_max = guess_max, n_max = n_max, altrep = vroom_altrep(altrep), \n .     num_threads = num_threads, progress = progress)",
      "4. (function (con, ...) \n . UseMethod(\"open\"))(structure(6L, class = c(\"curl\", \"connection\"\n . ), conn_id = <pointer: 0x387>), \"rb\")",
      "5. open.connection(structure(6L, class = c(\"curl\", \"connection\"), conn_id = <pointer: 0x387>), \n .     \"rb\")"
     ]
    }
   ],
   "source": [
    "heart_data <- read_csv('https://raw.githubusercontent.com/ftabuchi/group_21_DSCI100_project/jupyter-edits/data/processed.switzerland.data', col_names=FALSE)\n",
    "heart_data |> sample_n(6)\n",
    "heart_data <- heart_data |> select(X1, X3, X4)\n",
    "heart_data <- heart_data |> rename(age=X1, chest_pain_ctg=X3, blood_pressure_mm_Hg=X4) |> \n",
    "                                        filter(blood_pressure_mm_Hg != \"?\")\n",
    "\n",
    "knitr::kable(heart_data |> sample_n(6), caption=\"Heart Data\")"
   ]
  },
  {
   "cell_type": "markdown",
   "id": "77837a26-6f28-4e76-b454-222a5da36229",
   "metadata": {},
   "source": [
    "In this project, we want to predict the chest pain type with two predictors -  age and rest blood pressure. These predictors are used because these are all factors that contribute to the severity or different levels of angina. Different levels of angina through these symptoms are useful in determining cardiovascular diseases and diagnosing heart disease. Therefore, we will be using these predictors to classify the angina then make conclusions from our results.."
   ]
  },
  {
   "cell_type": "code",
   "execution_count": null,
   "id": "f8022951-1278-43b3-af4d-f240e3837714",
   "metadata": {},
   "outputs": [],
   "source": [
    "set.seed(686)\n",
    "\n",
    "#Get column 1, 3, 4, plot age vs blood pressure, colour seperated by type of chest pain\n",
    "\n",
    "# transform and rename the 'Class' factor values to be more readable\n",
    "heart_data <- heart_data |>\n",
    "    mutate(blood_pressure_mm_Hg = as.numeric(blood_pressure_mm_Hg)) |>\n",
    "    mutate(chest_pain_ctg = as_factor(chest_pain_ctg)) |> \n",
    "    mutate(chest_pain_ctg = fct_recode(chest_pain_ctg, \"typical\" = \"1\", \"atypical\" = \"2\", \"non-anginal\" = \"3\", \"asymptomatic\" = \"4\"))\n",
    "\n",
    "knitr::kable(heart_data |> sample_n(6), caption = \"Sample Heart Data Categorized\")\n"
   ]
  },
  {
   "cell_type": "markdown",
   "id": "2f310c0a-3fb9-4bce-9399-5dd83f14528d",
   "metadata": {},
   "source": [
    "After reading in the data by url and reading the csv, we can see that the data is fairly tidy. Now we will proceed to wrangle the data to a form that is appropriate for classification training.\n",
    "\n",
    "This way we can make visualizations and determine how many neighbors provides the greatest accuracy for classifying chest pain.\r\n"
   ]
  },
  {
   "cell_type": "code",
   "execution_count": null,
   "id": "2a58562e-bbf6-4f38-808b-72a5bd029927",
   "metadata": {},
   "outputs": [],
   "source": [
    "# split our dataset into training and testing sets.\n",
    "heart_split <- initial_split(heart_data, prop = 0.75, strata = chest_pain_ctg)\n",
    "heart_train <- training(heart_split)\n",
    "heart_test <- testing(heart_split)\n",
    "\n",
    "glimpse(heart_train)\n",
    "glimpse(heart_test)"
   ]
  },
  {
   "cell_type": "markdown",
   "id": "dfa28a15-fd94-47fd-b3b8-f15f6ec88e51",
   "metadata": {},
   "source": [
    "Let's create a visualization of our data with Blood Pressure on the x axis, Age on the y axis and shape-coded by chest pain type and color-coded by whether the subject has a heart disease. This visualization will allow us to see the relationship between two of our predictors, blood pressure and age. The relationship is explored further with their correlation to patients with heart disease; therefore, angina determinants and their effect on heart disease is explored. \n"
   ]
  },
  {
   "cell_type": "code",
   "execution_count": null,
   "id": "b0305b46-f772-4c4a-80cf-e827cb0836be",
   "metadata": {},
   "outputs": [],
   "source": [
    "options(repr.plot.height = 8, repr.plot.width = 8)\n",
    "\n",
    "# create scatter plot of heart disease training set.\n",
    "heart_disease_plot <- heart_train |>\n",
    "  ggplot(aes(x = blood_pressure_mm_Hg, y = age, color=chest_pain_ctg)) +\n",
    "  geom_point() +\n",
    "  labs(color = \"Type of Chest Pain\",  x=\"Rest Blood Pressure (mm Hg)\", y=\"Age (yrs)\", \n",
    "       caption = \"Figure 1\") +\n",
    "  scale_color_manual(values = c(\"darkorange\", \"green\", \"darkred\", \"steelblue\")) +\n",
    "  theme(text = element_text(size = 12)) +\n",
    "  ggtitle(\"Age vs Rest Blood Pressure\")\n",
    "\n",
    "\n",
    "heart_disease_plot"
   ]
  },
  {
   "cell_type": "markdown",
   "id": "63e6a4b2-2dbe-489d-a2c1-6a6697ff4d43",
   "metadata": {},
   "source": [
    "Now let's categorize the training data by the chest pain type and see the percentage of each type of angina in the data set. Then we will use the training data to determine the number of neighbors we will need based on accuracy of the predictors."
   ]
  },
  {
   "cell_type": "code",
   "execution_count": null,
   "id": "d7583bb0-46bd-4a19-b9cb-0d9cb76b76e2",
   "metadata": {},
   "outputs": [],
   "source": [
    "pain_proportions <- heart_train |>\n",
    "                      group_by(chest_pain_ctg) |>\n",
    "                      summarize(n = n()) |>\n",
    "                      mutate(percent = 100*n/nrow(heart_train))\n",
    "pain_proportions"
   ]
  },
  {
   "cell_type": "markdown",
   "id": "61218f45-3c4b-4966-814f-de45a69eb457",
   "metadata": {},
   "source": [
    "## Methods:\n",
    " \n",
    "For this classification, we will use the predictive variables age and resting blood pressure to predict the type of chest pain seen in patients.\n",
    "\n",
    "First we will load in the dataset, tidy it, and select for age, cp, and trestbps columns. We will split our data into training and testing sets, create a recipe, perform a cross-validation, create a K-nearest neighbors classifier, tune the model, and train the classifier with the training set via workflow. We will filter .metric for accuracy,  plot a neighbors vs. accuracy plot to visualize the best number of neighbors to set our final model. We will build a new K-nearest neighbors model with the ideal K value and run that through a workflow; this model will be used to predict the class for the test set (predict type of chest pain). \n",
    "\n",
    "One way we plan to visualize is to create a plot with the predictors on each axis and a different colour for each value of chest pain to visualize how the predictors can be used to predict the type of chest pain.\n",
    "\n",
    "\n",
    "## Expected Outcomes and Significance:\n",
    "\n",
    "We expect to find that as age and resting blood pressure increases, the amount of cases of chest pain will increase especially those of typical angina and asymptomatic. As  age increases cardiac complications increase because arteries become less efficient which is correlated with chest pain.\n",
    "\n",
    "Furthremore, we expect to find the following information:\n",
    "-\tMost of the cases are asymptomatic.\n",
    "-\tHave non-anginal cases having a blood pressure near either 110 or 155.\n",
    "-\tHave typical cases mostly beyond the age of 60.\n",
    "-\tHave very rare, atypical cases, but when there is one, have them with a blood pressure around 145 and an age higher than 70.\n",
    "\n",
    "Such findings can lead to a better categorization of the chest pain to help doctors to correctly medicate a patient even if they wrongly describe the pain. As an example, the patient could think he felt a typical chest pain, but he is 50 and has a blood pressure of 160 meaning that he is more likely to be a non-anginal type than a typical type. In this case, the medic could try to make countermeasures by re-examining the patient to make sure that he is given the correct medication.\n",
    "\n",
    "These findings could be beneficial for better categorization of chest pain to help doctors correctly medicate a patient even if they wrongly, or cannot, describe the pain. For example, a patient could think he felt a typical angina, but due to his blood pressure and age he is predicted to have non-anginal type chest pain. In this case, the doctor could further examine the patient to make sure that he is given the correct medication. This could also lead to studies about the correlation between the pain and the treatment and studies on how to better examine the patient. Not only that, but questions about the blood pressure correlation to the pain can also appear, having studies about how medication can change the blood pressure to help alleviate the pain of the patients.\n",
    "\n",
    "#### Future question: Is one type of chest pain more likely to be linked to diagnosed heart disease? "
   ]
  },
  {
   "cell_type": "markdown",
   "id": "c601bfaa-f920-4996-aef1-8e51b93d2f2a",
   "metadata": {},
   "source": [
    "##### \n",
    "And... just a little extra work to show  the accuracy of our prelimiary classifier after cross validation taking in numbers of neighbours from 2 to 6."
   ]
  },
  {
   "cell_type": "code",
   "execution_count": null,
   "id": "0436f42f-7acf-40b5-917d-6b5dafb46c79",
   "metadata": {},
   "outputs": [],
   "source": [
    "\n",
    "# Create recipe\n",
    "heart_recipe <- recipe(chest_pain_ctg ~ ., data = heart_train) |>\n",
    "  step_scale(all_numeric_predictors()) |>\n",
    "  step_center(all_numeric_predictors())\n",
    "\n",
    "knn_spec <- nearest_neighbor(weight_func = \"rectangular\", neighbors = tune()) |>\n",
    "  set_engine(\"kknn\") |>\n",
    "  set_mode(\"classification\")\n",
    "\n",
    "# cross-validation for best number of neighbours\n",
    "heart_vfold <- vfold_cv(heart_train, v = 5, strata = chest_pain_ctg)\n",
    "k_vals <- tibble(neighbors = seq(from = 2, to = 6, by = 1))\n",
    "\n",
    "# collect metrics for each number of neighbours\n",
    "knn_results <- workflow() |>\n",
    "  add_recipe(heart_recipe) |>\n",
    "  add_model(knn_spec) |>\n",
    "  tune_grid(resamples = heart_vfold, grid = k_vals) |>\n",
    "  collect_metrics()\n",
    "\n",
    "# get their accuracies\n",
    "accuracies <- knn_results |>\n",
    "  filter(.metric == \"accuracy\")\n",
    "\n",
    "accuracies\n"
   ]
  },
  {
   "cell_type": "markdown",
   "id": "9bd045d3-991f-4630-be5f-0f362700874d",
   "metadata": {},
   "source": []
  }
 ],
 "metadata": {
  "kernelspec": {
   "display_name": "R",
   "language": "R",
   "name": "ir"
  },
  "language_info": {
   "codemirror_mode": "r",
   "file_extension": ".r",
   "mimetype": "text/x-r-source",
   "name": "R",
   "pygments_lexer": "r",
   "version": "4.3.1"
  }
 },
 "nbformat": 4,
 "nbformat_minor": 5
}
